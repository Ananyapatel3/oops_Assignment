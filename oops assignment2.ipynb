{
 "cells": [
  {
   "cell_type": "code",
   "execution_count": null,
   "id": "2e3ec735-6bfb-409f-af2d-a170e43e33b7",
   "metadata": {},
   "outputs": [],
   "source": [
    "Q1. What is Abstraction in OOps? Explain with an example."
   ]
  },
  {
   "cell_type": "code",
   "execution_count": null,
   "id": "122119e4-97b5-4213-8efc-44d632e503ad",
   "metadata": {},
   "outputs": [],
   "source": [
    "Abstraction in OOPs is the concept of hiding complex implementation details and showing only the necessary information to the user. This is achieved by creating abstract classes or interfaces that define the properties and methods a class must have, without providing the implementation details.\n",
    "\n",
    "For example, consider a car as a class. The car has various properties such as wheels, engine, doors, and so on. However, the user only needs basic functionality such as starting the car, accelerating, and stopping it. Hence, the complex implementation details of the car are hidden from the user, and only the necessary information is provided.\n",
    "\n",
    "In OOPs, abstraction enables an efficient and organized approach to programming by reducing complexity and increasing reusability. It also allows multiple classes to work together effectively by defining a common interface that they all adhere to."
   ]
  },
  {
   "cell_type": "code",
   "execution_count": null,
   "id": "768a2a0a-dcdb-4d39-b873-75e0766db5a0",
   "metadata": {},
   "outputs": [],
   "source": [
    "Q2. Differentiate between Abstraction and Encapsulation. Explain with an example."
   ]
  },
  {
   "cell_type": "code",
   "execution_count": null,
   "id": "2d66ec7b-2e80-4233-b2cc-1a30efdc9fca",
   "metadata": {},
   "outputs": [],
   "source": [
    "Abstraction and Encapsulation are two of the most important concepts in OOPs. While there are some similarities between the two, there are also some key differences.\n",
    "\n",
    "Abstraction is the process of hiding the internal details of an object and only showing the necessary information to the user. This is achieved by defining abstract classes or interfaces that provide only the necessary properties and methods to the user. Abstraction focuses on what an object does rather than how it does it.\n",
    "\n",
    "Encapsulation, on the other hand, is the process of encapsulating the data and methods within a class and controlling access to them through access modifiers such as public, private, and protected. Encapsulation focuses on how an object does what it does, rather than what it does.\n",
    "\n",
    "Example:\n",
    "Consider a bank account as an object. Abstraction would mean exposing only the necessary information to the user such as account number, balance, and methods for depositing and withdrawing money, while hiding the internal details of how the account is managed and transaction processing. This is achieved by defining an abstract interface that specifies the necessary properties and methods.\n",
    "\n",
    "Encapsulation would mean encapsulating the account data and methods within a class and controlling access to them through modifiers. For instance, the account balance may be set as private and accessed only through methods such as deposit and withdrawal, which control and monitor the transactions. This provides greater security and prevents unauthorized access to the account data."
   ]
  },
  {
   "cell_type": "code",
   "execution_count": null,
   "id": "42a6df4f-80b1-478f-9e37-c10226ed0072",
   "metadata": {},
   "outputs": [],
   "source": [
    "Q3. What is abc module in python? Why is it used?"
   ]
  },
  {
   "cell_type": "code",
   "execution_count": null,
   "id": "539edd19-1640-4e97-a76b-b6a404761eca",
   "metadata": {},
   "outputs": [],
   "source": [
    "The abc module in Python stands for \"Abstract Base Classes\". It is a module of Python's standard library that allows the creation of abstract classes. Abstract classes are classes that cannot be instantiated on their own, but rather, are designed to be subclassed. Abstract classes provide a blueprint or a template for future classes to be built on, and they enforce a certain structure or set of methods that must be implemented in the child classes.\n",
    "\n",
    "The abc module is used to implement abstract classes in Python. It provides an abstract base class, \"ABC\", that can be subclassed to create new abstract classes. The \"ABC\" class provides a mechanism for defining abstract methods, which are methods that must be implemented in the child classes, and abstract properties, which must be overridden in the child classes.\n",
    "\n",
    "The abc module is useful in situations where a certain structure or a set of methods must be enforced across a set of related classes, but where the specific implementation details may differ. In such situations, an abstract class can be defined that specifies the structure and methods that must be implemented, and then child classes can be later created that implement these methods with their own specific details. This can help in designing more modular and extensible code."
   ]
  },
  {
   "cell_type": "code",
   "execution_count": null,
   "id": "9f99ce55-a632-4c6f-a638-d09b678c625d",
   "metadata": {},
   "outputs": [],
   "source": [
    "Q4. How can we achieve data abstraction?"
   ]
  },
  {
   "cell_type": "code",
   "execution_count": null,
   "id": "7fe9025e-fa6a-42d6-884c-bebc9474ede6",
   "metadata": {},
   "outputs": [],
   "source": [
    "Data Abstraction is the process of hiding the implementation details of an object and only exposing the relevant information to the end user. The goal of data abstraction is to simplify the user's interaction with an object by providing an interface that abstracts away the details of how the object is implemented.\n",
    "\n",
    "In order to achieve data abstraction in object-oriented programming, we can follow these steps:\n",
    "\n",
    "1. Define an interface or an abstract class that outlines the methods and properties that are necessary to interact with the object.\n",
    "\n",
    "2. Implement the interface in a concrete class by defining the required methods and properties.\n",
    "\n",
    "3. Hide the implementation details of the concrete class by making its properties and methods private.\n",
    "\n",
    "4. Provide public getters and setters or other methods that expose only the necessary information to the user.\n",
    "\n",
    "For example, let's consider a car object. We can define an interface \"Car\" that outlines the necessary methods such as start(), stop(), and getSpeed(). We can then implement this interface in a concrete class \"SportsCar\" that defines these methods. However, we hide the implementation details of the SportsCar class by making its properties and methods private. We then provide public methods such as \"accelerate()\" and \"brake()\" that expose only the necessary information to the user.\n",
    "\n",
    "By following this process, we achieve data abstraction in our car object. The end user interacts with the car using the public methods, without knowing or caring about the underlying details of how the car is implemented. This allows us to simplify the user's interaction with the car and to easily modify the implementation details of the car object without affecting its interface."
   ]
  },
  {
   "cell_type": "code",
   "execution_count": null,
   "id": "fedf1d1e-5f31-49d2-82d1-dfcae5cf7d38",
   "metadata": {},
   "outputs": [],
   "source": [
    "Q5. Can we create an instance of an abstract class? Explain your answer."
   ]
  },
  {
   "cell_type": "code",
   "execution_count": null,
   "id": "508a687b-9f09-4a1b-aa3f-700d16b839aa",
   "metadata": {},
   "outputs": [],
   "source": [
    "No, we cannot create an instance of an abstract class in Python or any object-oriented programming language. An abstract class is a class that is designed to be subclassed, and it cannot be instantiated on its own. The reason for this is that an abstract class is incomplete - it defines certain methods or properties that must be implemented in the child classes, but it does not provide a complete implementation of these methods or properties. As a result, attempting to create an instance of an abstract class would be meaningless since the instance would be incomplete and cannot be used.\n",
    "\n",
    "In Python, attempting to create an instance of an abstract class will result in a TypeError. Instead, we must create a concrete subclass of the abstract class that implements all of its abstract methods or properties. We can then create instances of the concrete subclass and use them to interact with the object. This also allows for better organization and modularization of code, as the abstract class provides a blueprint for all of its related subclasses, and we can define behavior at the abstract level without specifying the details of how it is to be implemented."
   ]
  },
  {
   "cell_type": "code",
   "execution_count": null,
   "id": "bb9c33be-0775-436e-9efe-d20d47a8965b",
   "metadata": {},
   "outputs": [],
   "source": []
  },
  {
   "cell_type": "code",
   "execution_count": null,
   "id": "8526553a-3c4b-40eb-b830-be3925eb034b",
   "metadata": {},
   "outputs": [],
   "source": []
  },
  {
   "cell_type": "code",
   "execution_count": null,
   "id": "cbcef221-fb30-45d3-91bb-7bde054de2ea",
   "metadata": {},
   "outputs": [],
   "source": []
  }
 ],
 "metadata": {
  "kernelspec": {
   "display_name": "Python 3 (ipykernel)",
   "language": "python",
   "name": "python3"
  },
  "language_info": {
   "codemirror_mode": {
    "name": "ipython",
    "version": 3
   },
   "file_extension": ".py",
   "mimetype": "text/x-python",
   "name": "python",
   "nbconvert_exporter": "python",
   "pygments_lexer": "ipython3",
   "version": "3.10.8"
  }
 },
 "nbformat": 4,
 "nbformat_minor": 5
}
